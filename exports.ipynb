{
 "cells": [
  {
   "cell_type": "code",
   "execution_count": 192,
   "id": "advance-firmware",
   "metadata": {},
   "outputs": [],
   "source": [
    "import pandas as pd"
   ]
  },
  {
   "cell_type": "code",
   "execution_count": 193,
   "id": "apart-floor",
   "metadata": {},
   "outputs": [
    {
     "data": {
      "text/html": [
       "<div>\n",
       "<style scoped>\n",
       "    .dataframe tbody tr th:only-of-type {\n",
       "        vertical-align: middle;\n",
       "    }\n",
       "\n",
       "    .dataframe tbody tr th {\n",
       "        vertical-align: top;\n",
       "    }\n",
       "\n",
       "    .dataframe thead th {\n",
       "        text-align: right;\n",
       "    }\n",
       "</style>\n",
       "<table border=\"1\" class=\"dataframe\">\n",
       "  <thead>\n",
       "    <tr style=\"text-align: right;\">\n",
       "      <th></th>\n",
       "      <th>periodo</th>\n",
       "      <th>titulo</th>\n",
       "      <th>referencias</th>\n",
       "      <th>resumo</th>\n",
       "    </tr>\n",
       "  </thead>\n",
       "  <tbody>\n",
       "    <tr>\n",
       "      <th>0</th>\n",
       "      <td>02/01/2013 a 01/02/2013</td>\n",
       "      <td>Comissão da Verdade I: militares relançam livr...</td>\n",
       "      <td>Correio Braziliense – Política – 16/01/13, Fol...</td>\n",
       "      <td>Comissão da Verdade I: militares relançam livr...</td>\n",
       "    </tr>\n",
       "    <tr>\n",
       "      <th>1</th>\n",
       "      <td>02/01/2013 a 01/02/2013</td>\n",
       "      <td>Comissão da Verdade II: investigações sobre a ...</td>\n",
       "      <td>Folha de S. Paulo – Poder – 22/01/2013</td>\n",
       "      <td>Comissão  Interamericana  de  Direitos  Humano...</td>\n",
       "    </tr>\n",
       "    <tr>\n",
       "      <th>2</th>\n",
       "      <td>02/01/2013 a 01/02/2013</td>\n",
       "      <td>Comissão Interamericana de Direitos Humanos in...</td>\n",
       "      <td>Folha de S. Paulo – Poder – 07/01/2013</td>\n",
       "      <td>Argentino relata sua prisão no Brasil antes de...</td>\n",
       "    </tr>\n",
       "    <tr>\n",
       "      <th>3</th>\n",
       "      <td>02/01/2013 a 01/02/2013</td>\n",
       "      <td>Exposição mostra fotos de famílias que perdera...</td>\n",
       "      <td>Correio Braziliense – Opinião – 16/01/2013, Fo...</td>\n",
       "      <td>Locais de memória do regime militar nas cidade...</td>\n",
       "    </tr>\n",
       "    <tr>\n",
       "      <th>4</th>\n",
       "      <td>02/01/2013 a 01/02/2013</td>\n",
       "      <td>Argentino relata sua prisão no Brasil antes de...</td>\n",
       "      <td>O Estado de S. Paulo – Negócios – 22/01/2013</td>\n",
       "      <td>Embraer pretende fabricar helicópteros em parc...</td>\n",
       "    </tr>\n",
       "    <tr>\n",
       "      <th>...</th>\n",
       "      <td>...</td>\n",
       "      <td>...</td>\n",
       "      <td>...</td>\n",
       "      <td>...</td>\n",
       "    </tr>\n",
       "    <tr>\n",
       "      <th>3020</th>\n",
       "      <td>15/10/2016 a 21/10/2016</td>\n",
       "      <td>Militar brasileiro foi encontrado morto no Haiti</td>\n",
       "      <td>Folha de S. Paulo – Mundo – 21/10/16</td>\n",
       "      <td>Militar brasileiro foi encontrado morto no Hai...</td>\n",
       "    </tr>\n",
       "    <tr>\n",
       "      <th>3021</th>\n",
       "      <td>22/10/2016 a 28/10/2016</td>\n",
       "      <td>Ministro da Defesa destacou os principais tema...</td>\n",
       "      <td>Correio Braziliense – Mundo – 22/10/16</td>\n",
       "      <td>Ministro da Defesa destacou os principais tema...</td>\n",
       "    </tr>\n",
       "    <tr>\n",
       "      <th>3022</th>\n",
       "      <td>22/10/2016 a 28/10/2016</td>\n",
       "      <td>Acordo que previa a formação de um corpo de en...</td>\n",
       "      <td>Folha de S. Paulo – Ilustrada – 24/10/16</td>\n",
       "      <td>Acordo que previa a formação de um corpo de en...</td>\n",
       "    </tr>\n",
       "    <tr>\n",
       "      <th>3023</th>\n",
       "      <td>22/10/2016 a 28/10/2016</td>\n",
       "      <td>Cardeal considerado símbolo de resistência ao ...</td>\n",
       "      <td>Estado de S. Paulo – Metrópole – 25/10/16</td>\n",
       "      <td>Cardeal considerado símbolo de resistência ao ...</td>\n",
       "    </tr>\n",
       "    <tr>\n",
       "      <th>3024</th>\n",
       "      <td>22/10/2016 a 28/10/2016</td>\n",
       "      <td>Presidente do Instituto de Relações Internacio...</td>\n",
       "      <td>Estado de S. Paulo – Opinião – 25/10/16</td>\n",
       "      <td>Presidente  do  Instituto  de  Relações  Inter...</td>\n",
       "    </tr>\n",
       "  </tbody>\n",
       "</table>\n",
       "<p>3025 rows × 4 columns</p>\n",
       "</div>"
      ],
      "text/plain": [
       "                      periodo  \\\n",
       "0     02/01/2013 a 01/02/2013   \n",
       "1     02/01/2013 a 01/02/2013   \n",
       "2     02/01/2013 a 01/02/2013   \n",
       "3     02/01/2013 a 01/02/2013   \n",
       "4     02/01/2013 a 01/02/2013   \n",
       "...                       ...   \n",
       "3020  15/10/2016 a 21/10/2016   \n",
       "3021  22/10/2016 a 28/10/2016   \n",
       "3022  22/10/2016 a 28/10/2016   \n",
       "3023  22/10/2016 a 28/10/2016   \n",
       "3024  22/10/2016 a 28/10/2016   \n",
       "\n",
       "                                                 titulo  \\\n",
       "0     Comissão da Verdade I: militares relançam livr...   \n",
       "1     Comissão da Verdade II: investigações sobre a ...   \n",
       "2     Comissão Interamericana de Direitos Humanos in...   \n",
       "3     Exposição mostra fotos de famílias que perdera...   \n",
       "4     Argentino relata sua prisão no Brasil antes de...   \n",
       "...                                                 ...   \n",
       "3020  Militar brasileiro foi encontrado morto no Haiti    \n",
       "3021  Ministro da Defesa destacou os principais tema...   \n",
       "3022  Acordo que previa a formação de um corpo de en...   \n",
       "3023  Cardeal considerado símbolo de resistência ao ...   \n",
       "3024  Presidente do Instituto de Relações Internacio...   \n",
       "\n",
       "                                            referencias  \\\n",
       "0     Correio Braziliense – Política – 16/01/13, Fol...   \n",
       "1                Folha de S. Paulo – Poder – 22/01/2013   \n",
       "2                Folha de S. Paulo – Poder – 07/01/2013   \n",
       "3     Correio Braziliense – Opinião – 16/01/2013, Fo...   \n",
       "4          O Estado de S. Paulo – Negócios – 22/01/2013   \n",
       "...                                                 ...   \n",
       "3020               Folha de S. Paulo – Mundo – 21/10/16   \n",
       "3021             Correio Braziliense – Mundo – 22/10/16   \n",
       "3022           Folha de S. Paulo – Ilustrada – 24/10/16   \n",
       "3023          Estado de S. Paulo – Metrópole – 25/10/16   \n",
       "3024            Estado de S. Paulo – Opinião – 25/10/16   \n",
       "\n",
       "                                                 resumo  \n",
       "0     Comissão da Verdade I: militares relançam livr...  \n",
       "1     Comissão  Interamericana  de  Direitos  Humano...  \n",
       "2     Argentino relata sua prisão no Brasil antes de...  \n",
       "3     Locais de memória do regime militar nas cidade...  \n",
       "4     Embraer pretende fabricar helicópteros em parc...  \n",
       "...                                                 ...  \n",
       "3020  Militar brasileiro foi encontrado morto no Hai...  \n",
       "3021  Ministro da Defesa destacou os principais tema...  \n",
       "3022  Acordo que previa a formação de um corpo de en...  \n",
       "3023  Cardeal considerado símbolo de resistência ao ...  \n",
       "3024  Presidente  do  Instituto  de  Relações  Inter...  \n",
       "\n",
       "[3025 rows x 4 columns]"
      ]
     },
     "execution_count": 193,
     "metadata": {},
     "output_type": "execute_result"
    }
   ],
   "source": [
    "observatorio = pd.read_csv('export.csv', sep=';')\n",
    "observatorio"
   ]
  },
  {
   "cell_type": "code",
   "execution_count": 194,
   "id": "soviet-inventory",
   "metadata": {},
   "outputs": [],
   "source": [
    "observatorio['Correio Braziliense'] = observatorio['referencias'].str.contains('Correio').astype(int)\n",
    "observatorio['Folha de S. Paulo'] = observatorio['referencias'].str.contains('Folha').astype(int)\n",
    "observatorio['Estado de S. Paulo'] = observatorio['referencias'].str.contains('Estado').astype(int)"
   ]
  },
  {
   "cell_type": "code",
   "execution_count": 195,
   "id": "automotive-layer",
   "metadata": {},
   "outputs": [],
   "source": [
    "observatorio[['inicio', 'fim']] = observatorio['periodo'].str.split(' a ', 1, expand=True)"
   ]
  },
  {
   "cell_type": "code",
   "execution_count": 196,
   "id": "curious-ceiling",
   "metadata": {},
   "outputs": [],
   "source": [
    "observatorio['inicio'] = pd.to_datetime(observatorio['inicio'])\n",
    "observatorio = observatorio.copy().sort_values(by='inicio').reset_index(drop=True)"
   ]
  },
  {
   "cell_type": "code",
   "execution_count": 197,
   "id": "ongoing-seeker",
   "metadata": {},
   "outputs": [
    {
     "data": {
      "text/plain": [
       "Index(['periodo', 'titulo', 'referencias', 'resumo', 'Correio Braziliense',\n",
       "       'Folha de S. Paulo', 'Estado de S. Paulo', 'inicio', 'fim'],\n",
       "      dtype='object')"
      ]
     },
     "execution_count": 197,
     "metadata": {},
     "output_type": "execute_result"
    }
   ],
   "source": [
    "observatorio.columns"
   ]
  },
  {
   "cell_type": "code",
   "execution_count": 198,
   "id": "opened-corps",
   "metadata": {},
   "outputs": [],
   "source": [
    "to_csv = observatorio[['inicio', 'fim', 'titulo', 'Correio Braziliense', 'Folha de S. Paulo', 'Estado de S. Paulo', 'resumo']]\n",
    "to_csv.columns = ['inicio', 'fim', 'Título Resumo', 'Correio Braziliense', 'Folha de S. Paulo', 'Estado de S. Paulo', 'Resumo']\n",
    "to_csv.to_csv('observatorio.csv', index=False, encoding='utf-8-sig', sep=';')"
   ]
  },
  {
   "cell_type": "code",
   "execution_count": null,
   "id": "overhead-ozone",
   "metadata": {},
   "outputs": [],
   "source": []
  }
 ],
 "metadata": {
  "kernelspec": {
   "display_name": "Python 3",
   "language": "python",
   "name": "python3"
  },
  "language_info": {
   "codemirror_mode": {
    "name": "ipython",
    "version": 3
   },
   "file_extension": ".py",
   "mimetype": "text/x-python",
   "name": "python",
   "nbconvert_exporter": "python",
   "pygments_lexer": "ipython3",
   "version": "3.6.8"
  }
 },
 "nbformat": 4,
 "nbformat_minor": 5
}
